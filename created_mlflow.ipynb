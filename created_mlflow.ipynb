{
 "cells": [
  {
   "cell_type": "code",
   "execution_count": 1,
   "id": "5edfced8",
   "metadata": {},
   "outputs": [],
   "source": [
    "import mlflow\n",
    "import pandas as pd\n",
    "from sklearn.ensemble import RandomForestClassifier\n",
    "from sklearn.model_selection import train_test_split\n",
    "import random\n",
    "import numpy as np"
   ]
  },
  {
   "cell_type": "code",
   "execution_count": null,
   "id": "c903e569",
   "metadata": {},
   "outputs": [],
   "source": [
    "mlflow.set_tracking_uri(\"http://127.0.0.1:5000/\")\n",
    "# Create a new MLflow Experiment\n",
    "mlflow.set_experiment(\"Latihan Credit Scoring\")\n",
    "\n",
    "data = pd.read_csv(\"./train_pca.csv\")\n",
    "\n",
    "# splitting data\n",
    "X_train, X_test, y_train, y_test = train_test_split(\n",
    "    data.drop(\"Credit_Score\", axis=1),\n",
    "    data[\"Credit_Score\"],\n",
    "    random_state=42,\n",
    "    test_size=0.2\n",
    ")\n",
    "input_example = X_train[0:5]\n",
    "\n",
    "with mlflow.start_run():\n",
    "    # Log parameters\n",
    "    n_estimators = 505\n",
    "    max_depth = 37\n",
    "    mlflow.autolog()\n",
    "    # Train model\n",
    "    model = RandomForestClassifier(n_estimators=n_estimators, max_depth=max_depth)\n",
    "    mlflow.sklearn.log_model(\n",
    "        sk_model=model,\n",
    "        artifact_path=\"model\",\n",
    "        input_example=input_example\n",
    "    )\n",
    "    model.fit(X_train, y_train)\n",
    "    # Log metrics\n",
    "    accuracy = model.score(X_test, y_test)\n",
    "    mlflow.log_metric(\"accuracy\", accuracy)"
   ]
  }
 ],
 "metadata": {
  "kernelspec": {
   "display_name": ".venv",
   "language": "python",
   "name": "python3"
  },
  "language_info": {
   "codemirror_mode": {
    "name": "ipython",
    "version": 3
   },
   "file_extension": ".py",
   "mimetype": "text/x-python",
   "name": "python",
   "nbconvert_exporter": "python",
   "pygments_lexer": "ipython3",
   "version": "3.11.2"
  }
 },
 "nbformat": 4,
 "nbformat_minor": 5
}
